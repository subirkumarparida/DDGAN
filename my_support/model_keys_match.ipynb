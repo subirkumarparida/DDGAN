{
 "cells": [
  {
   "cell_type": "code",
   "execution_count": 1,
   "id": "2c136107",
   "metadata": {},
   "outputs": [],
   "source": [
    "import os\n",
    "import numpy as np\n",
    "import torch\n",
    "import torchvision"
   ]
  },
  {
   "cell_type": "code",
   "execution_count": 2,
   "id": "b974d69b",
   "metadata": {},
   "outputs": [
    {
     "name": "stderr",
     "output_type": "stream",
     "text": [
      "C:\\Users\\subir\\AppData\\Roaming\\Python\\Python311\\site-packages\\torch\\utils\\cpp_extension.py:383: UserWarning: Error checking compiler version for cl: [WinError 2] The system cannot find the file specified\n",
      "  warnings.warn(f'Error checking compiler version for {compiler}: {error}')\n"
     ]
    },
    {
     "ename": "OSError",
     "evalue": "CUDA_HOME environment variable is not set. Please set it to your CUDA install root.",
     "output_type": "error",
     "traceback": [
      "\u001b[1;31m---------------------------------------------------------------------------\u001b[0m",
      "\u001b[1;31mOSError\u001b[0m                                   Traceback (most recent call last)",
      "Cell \u001b[1;32mIn[2], line 1\u001b[0m\n\u001b[1;32m----> 1\u001b[0m \u001b[38;5;28;01mfrom\u001b[39;00m \u001b[38;5;21;01mscore_sde\u001b[39;00m\u001b[38;5;21;01m.\u001b[39;00m\u001b[38;5;21;01mmodels\u001b[39;00m\u001b[38;5;21;01m.\u001b[39;00m\u001b[38;5;21;01mncsnpp_generator_adagn\u001b[39;00m \u001b[38;5;28;01mimport\u001b[39;00m NCSNpp\n",
      "File \u001b[1;32m~\\OneDrive\\Documents\\GitHub\\denoising-diffusion-gan\\score_sde\\models\\ncsnpp_generator_adagn.py:34\u001b[0m\n\u001b[0;32m      1\u001b[0m \u001b[38;5;66;03m# ---------------------------------------------------------------\u001b[39;00m\n\u001b[0;32m      2\u001b[0m \u001b[38;5;66;03m# Copyright (c) 2022, NVIDIA CORPORATION. All rights reserved.\u001b[39;00m\n\u001b[0;32m      3\u001b[0m \u001b[38;5;66;03m#\u001b[39;00m\n\u001b[1;32m   (...)\u001b[0m\n\u001b[0;32m     29\u001b[0m \n\u001b[0;32m     30\u001b[0m \u001b[38;5;66;03m# pylint: skip-file\u001b[39;00m\n\u001b[0;32m     31\u001b[0m \u001b[38;5;124;03m''' Codes adapted from https://github.com/yang-song/score_sde_pytorch/blob/main/models/ncsnpp.py\u001b[39;00m\n\u001b[0;32m     32\u001b[0m \u001b[38;5;124;03m'''\u001b[39;00m\n\u001b[1;32m---> 34\u001b[0m \u001b[38;5;28;01mfrom\u001b[39;00m \u001b[38;5;21;01m.\u001b[39;00m \u001b[38;5;28;01mimport\u001b[39;00m utils, layers, layerspp, dense_layer\n\u001b[0;32m     35\u001b[0m \u001b[38;5;28;01mimport\u001b[39;00m \u001b[38;5;21;01mtorch\u001b[39;00m\u001b[38;5;21;01m.\u001b[39;00m\u001b[38;5;21;01mnn\u001b[39;00m \u001b[38;5;28;01mas\u001b[39;00m \u001b[38;5;21;01mnn\u001b[39;00m\n\u001b[0;32m     36\u001b[0m \u001b[38;5;28;01mimport\u001b[39;00m \u001b[38;5;21;01mfunctools\u001b[39;00m\n",
      "File \u001b[1;32m~\\OneDrive\\Documents\\GitHub\\denoising-diffusion-gan\\score_sde\\models\\layerspp.py:33\u001b[0m\n\u001b[0;32m      1\u001b[0m \u001b[38;5;66;03m# ---------------------------------------------------------------\u001b[39;00m\n\u001b[0;32m      2\u001b[0m \u001b[38;5;66;03m# Copyright (c) 2022, NVIDIA CORPORATION. All rights reserved.\u001b[39;00m\n\u001b[0;32m      3\u001b[0m \u001b[38;5;66;03m#\u001b[39;00m\n\u001b[1;32m   (...)\u001b[0m\n\u001b[0;32m     29\u001b[0m \n\u001b[0;32m     30\u001b[0m \u001b[38;5;66;03m# pylint: skip-file\u001b[39;00m\n\u001b[0;32m     32\u001b[0m \u001b[38;5;28;01mfrom\u001b[39;00m \u001b[38;5;21;01m.\u001b[39;00m \u001b[38;5;28;01mimport\u001b[39;00m layers\n\u001b[1;32m---> 33\u001b[0m \u001b[38;5;28;01mfrom\u001b[39;00m \u001b[38;5;21;01m.\u001b[39;00m \u001b[38;5;28;01mimport\u001b[39;00m up_or_down_sampling, dense_layer\n\u001b[0;32m     34\u001b[0m \u001b[38;5;28;01mimport\u001b[39;00m \u001b[38;5;21;01mtorch\u001b[39;00m\u001b[38;5;21;01m.\u001b[39;00m\u001b[38;5;21;01mnn\u001b[39;00m \u001b[38;5;28;01mas\u001b[39;00m \u001b[38;5;21;01mnn\u001b[39;00m\n\u001b[0;32m     35\u001b[0m \u001b[38;5;28;01mimport\u001b[39;00m \u001b[38;5;21;01mtorch\u001b[39;00m\n",
      "File \u001b[1;32m~\\OneDrive\\Documents\\GitHub\\denoising-diffusion-gan\\score_sde\\models\\up_or_down_sampling.py:15\u001b[0m\n\u001b[0;32m     13\u001b[0m \u001b[38;5;28;01mimport\u001b[39;00m \u001b[38;5;21;01mtorch\u001b[39;00m\u001b[38;5;21;01m.\u001b[39;00m\u001b[38;5;21;01mnn\u001b[39;00m\u001b[38;5;21;01m.\u001b[39;00m\u001b[38;5;21;01mfunctional\u001b[39;00m \u001b[38;5;28;01mas\u001b[39;00m \u001b[38;5;21;01mF\u001b[39;00m\n\u001b[0;32m     14\u001b[0m \u001b[38;5;28;01mimport\u001b[39;00m \u001b[38;5;21;01mnumpy\u001b[39;00m \u001b[38;5;28;01mas\u001b[39;00m \u001b[38;5;21;01mnp\u001b[39;00m\n\u001b[1;32m---> 15\u001b[0m \u001b[38;5;28;01mfrom\u001b[39;00m \u001b[38;5;21;01mscore_sde\u001b[39;00m\u001b[38;5;21;01m.\u001b[39;00m\u001b[38;5;21;01mop\u001b[39;00m \u001b[38;5;28;01mimport\u001b[39;00m upfirdn2d\n\u001b[0;32m     18\u001b[0m \u001b[38;5;66;03m# Function ported from StyleGAN2\u001b[39;00m\n\u001b[0;32m     19\u001b[0m \u001b[38;5;28;01mdef\u001b[39;00m \u001b[38;5;21mget_weight\u001b[39m(module,\n\u001b[0;32m     20\u001b[0m                shape,\n\u001b[0;32m     21\u001b[0m                weight_var\u001b[38;5;241m=\u001b[39m\u001b[38;5;124m'\u001b[39m\u001b[38;5;124mweight\u001b[39m\u001b[38;5;124m'\u001b[39m,\n\u001b[0;32m     22\u001b[0m                kernel_init\u001b[38;5;241m=\u001b[39m\u001b[38;5;28;01mNone\u001b[39;00m):\n",
      "File \u001b[1;32m~\\OneDrive\\Documents\\GitHub\\denoising-diffusion-gan\\score_sde\\op\\__init__.py:1\u001b[0m\n\u001b[1;32m----> 1\u001b[0m \u001b[38;5;28;01mfrom\u001b[39;00m \u001b[38;5;21;01m.\u001b[39;00m\u001b[38;5;21;01mfused_act\u001b[39;00m \u001b[38;5;28;01mimport\u001b[39;00m FusedLeakyReLU, fused_leaky_relu\n\u001b[0;32m      2\u001b[0m \u001b[38;5;28;01mfrom\u001b[39;00m \u001b[38;5;21;01m.\u001b[39;00m\u001b[38;5;21;01mupfirdn2d\u001b[39;00m \u001b[38;5;28;01mimport\u001b[39;00m upfirdn2d\n",
      "File \u001b[1;32m~\\OneDrive\\Documents\\GitHub\\denoising-diffusion-gan\\score_sde\\op\\fused_act.py:19\u001b[0m\n\u001b[0;32m     15\u001b[0m \u001b[38;5;28;01mfrom\u001b[39;00m \u001b[38;5;21;01mtorch\u001b[39;00m\u001b[38;5;21;01m.\u001b[39;00m\u001b[38;5;21;01mutils\u001b[39;00m\u001b[38;5;21;01m.\u001b[39;00m\u001b[38;5;21;01mcpp_extension\u001b[39;00m \u001b[38;5;28;01mimport\u001b[39;00m load\n\u001b[0;32m     18\u001b[0m module_path \u001b[38;5;241m=\u001b[39m os\u001b[38;5;241m.\u001b[39mpath\u001b[38;5;241m.\u001b[39mdirname(\u001b[38;5;18m__file__\u001b[39m)\n\u001b[1;32m---> 19\u001b[0m fused \u001b[38;5;241m=\u001b[39m load(\n\u001b[0;32m     20\u001b[0m     \u001b[38;5;124m\"\u001b[39m\u001b[38;5;124mfused\u001b[39m\u001b[38;5;124m\"\u001b[39m,\n\u001b[0;32m     21\u001b[0m     sources\u001b[38;5;241m=\u001b[39m[\n\u001b[0;32m     22\u001b[0m         os\u001b[38;5;241m.\u001b[39mpath\u001b[38;5;241m.\u001b[39mjoin(module_path, \u001b[38;5;124m\"\u001b[39m\u001b[38;5;124mfused_bias_act.cpp\u001b[39m\u001b[38;5;124m\"\u001b[39m),\n\u001b[0;32m     23\u001b[0m         os\u001b[38;5;241m.\u001b[39mpath\u001b[38;5;241m.\u001b[39mjoin(module_path, \u001b[38;5;124m\"\u001b[39m\u001b[38;5;124mfused_bias_act_kernel.cu\u001b[39m\u001b[38;5;124m\"\u001b[39m),\n\u001b[0;32m     24\u001b[0m     ],\n\u001b[0;32m     25\u001b[0m )\n\u001b[0;32m     28\u001b[0m \u001b[38;5;28;01mclass\u001b[39;00m \u001b[38;5;21;01mFusedLeakyReLUFunctionBackward\u001b[39;00m(Function):\n\u001b[0;32m     29\u001b[0m     \u001b[38;5;129m@staticmethod\u001b[39m\n\u001b[0;32m     30\u001b[0m     \u001b[38;5;28;01mdef\u001b[39;00m \u001b[38;5;21mforward\u001b[39m(ctx, grad_output, out, negative_slope, scale):\n",
      "File \u001b[1;32m~\\AppData\\Roaming\\Python\\Python311\\site-packages\\torch\\utils\\cpp_extension.py:1308\u001b[0m, in \u001b[0;36mload\u001b[1;34m(name, sources, extra_cflags, extra_cuda_cflags, extra_ldflags, extra_include_paths, build_directory, verbose, with_cuda, is_python_module, is_standalone, keep_intermediates)\u001b[0m\n\u001b[0;32m   1216\u001b[0m \u001b[38;5;28;01mdef\u001b[39;00m \u001b[38;5;21mload\u001b[39m(name,\n\u001b[0;32m   1217\u001b[0m          sources: Union[\u001b[38;5;28mstr\u001b[39m, List[\u001b[38;5;28mstr\u001b[39m]],\n\u001b[0;32m   1218\u001b[0m          extra_cflags\u001b[38;5;241m=\u001b[39m\u001b[38;5;28;01mNone\u001b[39;00m,\n\u001b[1;32m   (...)\u001b[0m\n\u001b[0;32m   1226\u001b[0m          is_standalone\u001b[38;5;241m=\u001b[39m\u001b[38;5;28;01mFalse\u001b[39;00m,\n\u001b[0;32m   1227\u001b[0m          keep_intermediates\u001b[38;5;241m=\u001b[39m\u001b[38;5;28;01mTrue\u001b[39;00m):\n\u001b[0;32m   1228\u001b[0m \u001b[38;5;250m    \u001b[39m\u001b[38;5;124mr\u001b[39m\u001b[38;5;124;03m'''\u001b[39;00m\n\u001b[0;32m   1229\u001b[0m \u001b[38;5;124;03m    Loads a PyTorch C++ extension just-in-time (JIT).\u001b[39;00m\n\u001b[0;32m   1230\u001b[0m \n\u001b[1;32m   (...)\u001b[0m\n\u001b[0;32m   1306\u001b[0m \u001b[38;5;124;03m        ...     verbose=True)\u001b[39;00m\n\u001b[0;32m   1307\u001b[0m \u001b[38;5;124;03m    '''\u001b[39;00m\n\u001b[1;32m-> 1308\u001b[0m     \u001b[38;5;28;01mreturn\u001b[39;00m _jit_compile(\n\u001b[0;32m   1309\u001b[0m         name,\n\u001b[0;32m   1310\u001b[0m         [sources] \u001b[38;5;28;01mif\u001b[39;00m \u001b[38;5;28misinstance\u001b[39m(sources, \u001b[38;5;28mstr\u001b[39m) \u001b[38;5;28;01melse\u001b[39;00m sources,\n\u001b[0;32m   1311\u001b[0m         extra_cflags,\n\u001b[0;32m   1312\u001b[0m         extra_cuda_cflags,\n\u001b[0;32m   1313\u001b[0m         extra_ldflags,\n\u001b[0;32m   1314\u001b[0m         extra_include_paths,\n\u001b[0;32m   1315\u001b[0m         build_directory \u001b[38;5;129;01mor\u001b[39;00m _get_build_directory(name, verbose),\n\u001b[0;32m   1316\u001b[0m         verbose,\n\u001b[0;32m   1317\u001b[0m         with_cuda,\n\u001b[0;32m   1318\u001b[0m         is_python_module,\n\u001b[0;32m   1319\u001b[0m         is_standalone,\n\u001b[0;32m   1320\u001b[0m         keep_intermediates\u001b[38;5;241m=\u001b[39mkeep_intermediates)\n",
      "File \u001b[1;32m~\\AppData\\Roaming\\Python\\Python311\\site-packages\\torch\\utils\\cpp_extension.py:1710\u001b[0m, in \u001b[0;36m_jit_compile\u001b[1;34m(name, sources, extra_cflags, extra_cuda_cflags, extra_ldflags, extra_include_paths, build_directory, verbose, with_cuda, is_python_module, is_standalone, keep_intermediates)\u001b[0m\n\u001b[0;32m   1706\u001b[0m                 hipified_sources\u001b[38;5;241m.\u001b[39madd(hipify_result[s_abs]\u001b[38;5;241m.\u001b[39mhipified_path \u001b[38;5;28;01mif\u001b[39;00m s_abs \u001b[38;5;129;01min\u001b[39;00m hipify_result \u001b[38;5;28;01melse\u001b[39;00m s_abs)\n\u001b[0;32m   1708\u001b[0m             sources \u001b[38;5;241m=\u001b[39m \u001b[38;5;28mlist\u001b[39m(hipified_sources)\n\u001b[1;32m-> 1710\u001b[0m         _write_ninja_file_and_build_library(\n\u001b[0;32m   1711\u001b[0m             name\u001b[38;5;241m=\u001b[39mname,\n\u001b[0;32m   1712\u001b[0m             sources\u001b[38;5;241m=\u001b[39msources,\n\u001b[0;32m   1713\u001b[0m             extra_cflags\u001b[38;5;241m=\u001b[39mextra_cflags \u001b[38;5;129;01mor\u001b[39;00m [],\n\u001b[0;32m   1714\u001b[0m             extra_cuda_cflags\u001b[38;5;241m=\u001b[39mextra_cuda_cflags \u001b[38;5;129;01mor\u001b[39;00m [],\n\u001b[0;32m   1715\u001b[0m             extra_ldflags\u001b[38;5;241m=\u001b[39mextra_ldflags \u001b[38;5;129;01mor\u001b[39;00m [],\n\u001b[0;32m   1716\u001b[0m             extra_include_paths\u001b[38;5;241m=\u001b[39mextra_include_paths \u001b[38;5;129;01mor\u001b[39;00m [],\n\u001b[0;32m   1717\u001b[0m             build_directory\u001b[38;5;241m=\u001b[39mbuild_directory,\n\u001b[0;32m   1718\u001b[0m             verbose\u001b[38;5;241m=\u001b[39mverbose,\n\u001b[0;32m   1719\u001b[0m             with_cuda\u001b[38;5;241m=\u001b[39mwith_cuda,\n\u001b[0;32m   1720\u001b[0m             is_standalone\u001b[38;5;241m=\u001b[39mis_standalone)\n\u001b[0;32m   1721\u001b[0m \u001b[38;5;28;01mfinally\u001b[39;00m:\n\u001b[0;32m   1722\u001b[0m     baton\u001b[38;5;241m.\u001b[39mrelease()\n",
      "File \u001b[1;32m~\\AppData\\Roaming\\Python\\Python311\\site-packages\\torch\\utils\\cpp_extension.py:1800\u001b[0m, in \u001b[0;36m_write_ninja_file_and_build_library\u001b[1;34m(name, sources, extra_cflags, extra_cuda_cflags, extra_ldflags, extra_include_paths, build_directory, verbose, with_cuda, is_standalone)\u001b[0m\n\u001b[0;32m   1798\u001b[0m \u001b[38;5;28;01mif\u001b[39;00m with_cuda \u001b[38;5;129;01mis\u001b[39;00m \u001b[38;5;28;01mNone\u001b[39;00m:\n\u001b[0;32m   1799\u001b[0m     with_cuda \u001b[38;5;241m=\u001b[39m \u001b[38;5;28many\u001b[39m(\u001b[38;5;28mmap\u001b[39m(_is_cuda_file, sources))\n\u001b[1;32m-> 1800\u001b[0m extra_ldflags \u001b[38;5;241m=\u001b[39m _prepare_ldflags(\n\u001b[0;32m   1801\u001b[0m     extra_ldflags \u001b[38;5;129;01mor\u001b[39;00m [],\n\u001b[0;32m   1802\u001b[0m     with_cuda,\n\u001b[0;32m   1803\u001b[0m     verbose,\n\u001b[0;32m   1804\u001b[0m     is_standalone)\n\u001b[0;32m   1805\u001b[0m build_file_path \u001b[38;5;241m=\u001b[39m os\u001b[38;5;241m.\u001b[39mpath\u001b[38;5;241m.\u001b[39mjoin(build_directory, \u001b[38;5;124m'\u001b[39m\u001b[38;5;124mbuild.ninja\u001b[39m\u001b[38;5;124m'\u001b[39m)\n\u001b[0;32m   1806\u001b[0m \u001b[38;5;28;01mif\u001b[39;00m verbose:\n",
      "File \u001b[1;32m~\\AppData\\Roaming\\Python\\Python311\\site-packages\\torch\\utils\\cpp_extension.py:1893\u001b[0m, in \u001b[0;36m_prepare_ldflags\u001b[1;34m(extra_ldflags, with_cuda, verbose, is_standalone)\u001b[0m\n\u001b[0;32m   1891\u001b[0m     \u001b[38;5;28mprint\u001b[39m(\u001b[38;5;124m'\u001b[39m\u001b[38;5;124mDetected CUDA files, patching ldflags\u001b[39m\u001b[38;5;124m'\u001b[39m, file\u001b[38;5;241m=\u001b[39msys\u001b[38;5;241m.\u001b[39mstderr)\n\u001b[0;32m   1892\u001b[0m \u001b[38;5;28;01mif\u001b[39;00m IS_WINDOWS:\n\u001b[1;32m-> 1893\u001b[0m     extra_ldflags\u001b[38;5;241m.\u001b[39mappend(\u001b[38;5;124mf\u001b[39m\u001b[38;5;124m'\u001b[39m\u001b[38;5;124m/LIBPATH:\u001b[39m\u001b[38;5;132;01m{\u001b[39;00m_join_cuda_home(\u001b[38;5;124m\"\u001b[39m\u001b[38;5;124mlib\u001b[39m\u001b[38;5;124m\"\u001b[39m,\u001b[38;5;250m \u001b[39m\u001b[38;5;124m\"\u001b[39m\u001b[38;5;124mx64\u001b[39m\u001b[38;5;124m\"\u001b[39m)\u001b[38;5;132;01m}\u001b[39;00m\u001b[38;5;124m'\u001b[39m)\n\u001b[0;32m   1894\u001b[0m     extra_ldflags\u001b[38;5;241m.\u001b[39mappend(\u001b[38;5;124m'\u001b[39m\u001b[38;5;124mcudart.lib\u001b[39m\u001b[38;5;124m'\u001b[39m)\n\u001b[0;32m   1895\u001b[0m     \u001b[38;5;28;01mif\u001b[39;00m CUDNN_HOME \u001b[38;5;129;01mis\u001b[39;00m \u001b[38;5;129;01mnot\u001b[39;00m \u001b[38;5;28;01mNone\u001b[39;00m:\n",
      "File \u001b[1;32m~\\AppData\\Roaming\\Python\\Python311\\site-packages\\torch\\utils\\cpp_extension.py:2416\u001b[0m, in \u001b[0;36m_join_cuda_home\u001b[1;34m(*paths)\u001b[0m\n\u001b[0;32m   2409\u001b[0m \u001b[38;5;250m\u001b[39m\u001b[38;5;124mr\u001b[39m\u001b[38;5;124;03m'''\u001b[39;00m\n\u001b[0;32m   2410\u001b[0m \u001b[38;5;124;03mJoins paths with CUDA_HOME, or raises an error if it CUDA_HOME is not set.\u001b[39;00m\n\u001b[0;32m   2411\u001b[0m \n\u001b[0;32m   2412\u001b[0m \u001b[38;5;124;03mThis is basically a lazy way of raising an error for missing $CUDA_HOME\u001b[39;00m\n\u001b[0;32m   2413\u001b[0m \u001b[38;5;124;03monly once we need to get any CUDA-specific path.\u001b[39;00m\n\u001b[0;32m   2414\u001b[0m \u001b[38;5;124;03m'''\u001b[39;00m\n\u001b[0;32m   2415\u001b[0m \u001b[38;5;28;01mif\u001b[39;00m CUDA_HOME \u001b[38;5;129;01mis\u001b[39;00m \u001b[38;5;28;01mNone\u001b[39;00m:\n\u001b[1;32m-> 2416\u001b[0m     \u001b[38;5;28;01mraise\u001b[39;00m \u001b[38;5;167;01mOSError\u001b[39;00m(\u001b[38;5;124m'\u001b[39m\u001b[38;5;124mCUDA_HOME environment variable is not set. \u001b[39m\u001b[38;5;124m'\u001b[39m\n\u001b[0;32m   2417\u001b[0m                   \u001b[38;5;124m'\u001b[39m\u001b[38;5;124mPlease set it to your CUDA install root.\u001b[39m\u001b[38;5;124m'\u001b[39m)\n\u001b[0;32m   2418\u001b[0m \u001b[38;5;28;01mreturn\u001b[39;00m os\u001b[38;5;241m.\u001b[39mpath\u001b[38;5;241m.\u001b[39mjoin(CUDA_HOME, \u001b[38;5;241m*\u001b[39mpaths)\n",
      "\u001b[1;31mOSError\u001b[0m: CUDA_HOME environment variable is not set. Please set it to your CUDA install root."
     ]
    }
   ],
   "source": [
    "from score_sde.models.ncsnpp_generator_adagn import NCSNpp"
   ]
  },
  {
   "cell_type": "code",
   "execution_count": null,
   "id": "4a9b3449",
   "metadata": {},
   "outputs": [],
   "source": [
    "def compare_models(model_1, model_2):\n",
    "    models_differ = 0\n",
    "    for key_item_1, key_item_2 in zip(model_1.state_dict().items(), model_2.state_dict().items()):\n",
    "        if torch.equal(key_item_1[1], key_item_2[1]):\n",
    "            pass\n",
    "        else:\n",
    "            models_differ += 1\n",
    "            if (key_item_1[0] == key_item_2[0]):\n",
    "                print('Mismtach found at', key_item_1[0])\n",
    "            else:\n",
    "                raise Exception\n",
    "    if models_differ == 0:\n",
    "        print('Models match perfectly! :)')"
   ]
  },
  {
   "cell_type": "code",
   "execution_count": null,
   "id": "38a8e834",
   "metadata": {},
   "outputs": [],
   "source": [
    "!pip install ninja"
   ]
  },
  {
   "cell_type": "code",
   "execution_count": null,
   "id": "b16f229d",
   "metadata": {},
   "outputs": [],
   "source": [
    "netG = NCSNpp(args).to(device)\n",
    "    ckpt = torch.load('./saved_info/dd_gan/{}/{}/netG_{}.pth'.format(args.dataset, args.exp, args.epoch_id), map_location=device)\n",
    "    "
   ]
  }
 ],
 "metadata": {
  "kernelspec": {
   "display_name": "Python 3 (ipykernel)",
   "language": "python",
   "name": "python3"
  },
  "language_info": {
   "codemirror_mode": {
    "name": "ipython",
    "version": 3
   },
   "file_extension": ".py",
   "mimetype": "text/x-python",
   "name": "python",
   "nbconvert_exporter": "python",
   "pygments_lexer": "ipython3",
   "version": "3.11.5"
  }
 },
 "nbformat": 4,
 "nbformat_minor": 5
}
